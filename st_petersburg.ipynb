{
 "cells": [
  {
   "cell_type": "markdown",
   "metadata": {},
   "source": [
    "# St. Petersburg paradox"
   ]
  },
  {
   "cell_type": "markdown",
   "metadata": {},
   "source": [
    "Просимулируем 'игры' 200000 тысяч раз и будем строить скользящее среднее для каждой новой игры.\n",
    "Таким образом будет смотреть, как ведет себя мат. ожидание при большом кол-е симуляций."
   ]
  },
  {
   "cell_type": "code",
   "execution_count": null,
   "metadata": {},
   "outputs": [],
   "source": [
    "# одно испытание\n",
    "sampleOnce <- function() {\n",
    "  2^(rgeom(1, .5))\n",
    "}\n",
    "\n",
    "# запуск times испытаний и построение одного графика\n",
    "runSim <- function(times=10000) {\n",
    "  simRes <- rep(NA, times)\n",
    "  avg <- rep(NA, times)\n",
    "  for(i in 1:times) {\n",
    "    simRes[i] <- sampleOnce()\n",
    "    avg[i] <- mean(simRes[1:i])\n",
    "  }\n",
    "  plot(avg, ylim=c(1,40), type=\"l\", ylab=\"avg\", xlab=\"try\", main=\"St. Petersburg problem\")\n",
    "}\n",
    "\n",
    "# константы и запуск построения n_plots графиков\n",
    "times_to_play = 100000\n",
    "n_plots = 9\n",
    "par(mfrow=c(sqrt(n_plots),sqrt(n_plots)))\n",
    "for(i in 1:n_plots){\n",
    "  runSim(times_to_play)\n",
    "}"
   ]
  },
  {
   "cell_type": "markdown",
   "metadata": {},
   "source": [
    "Оказалось, что при увеличении числа испытаний мат. ожидание вроде бы начинает сходиться, но потом происходит резкий скачок с последующим постепенным уменьшением мат. ожидания из этой пиковой точки, так как такие скачки происходят редко.\n",
    "Таким обрахом, мат. ожидание в любой большой момент времени (рост числа игр) может резко увеличиться и не сходится."
   ]
  }
 ],
 "metadata": {
  "kernelspec": {
   "display_name": "R",
   "language": "R",
   "name": "ir"
  },
  "language_info": {
   "codemirror_mode": "r",
   "file_extension": ".r",
   "mimetype": "text/x-r-source",
   "name": "R",
   "pygments_lexer": "r",
   "version": "3.4.2"
  }
 },
 "nbformat": 4,
 "nbformat_minor": 2
}
